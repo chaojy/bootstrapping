{
  "nbformat": 4,
  "nbformat_minor": 0,
  "metadata": {
    "colab": {
      "provenance": [],
      "authorship_tag": "ABX9TyOfkybVj1UOQrpiKaBBRXn7",
      "include_colab_link": true
    },
    "kernelspec": {
      "name": "python3",
      "display_name": "Python 3"
    },
    "language_info": {
      "name": "python"
    }
  },
  "cells": [
    {
      "cell_type": "markdown",
      "metadata": {
        "id": "view-in-github",
        "colab_type": "text"
      },
      "source": [
        "<a href=\"https://colab.research.google.com/github/chaojy/bootstrapping/blob/main/chapter_2_methods_madness.ipynb\" target=\"_parent\"><img src=\"https://colab.research.google.com/assets/colab-badge.svg\" alt=\"Open In Colab\"/></a>"
      ]
    },
    {
      "cell_type": "code",
      "execution_count": 1,
      "metadata": {
        "colab": {
          "base_uri": "https://localhost:8080/"
        },
        "id": "4MJNv2mKMxqZ",
        "outputId": "deab6c38-f5bc-45c5-b3fa-f7ae1826fdd8"
      },
      "outputs": [
        {
          "output_type": "stream",
          "name": "stdout",
          "text": [
            "['Hello', 'World!']\n"
          ]
        }
      ],
      "source": [
        "# Example 2-5. method_madness\n",
        "# splitting a string \"literal\" and then printing the result\n",
        "split_world = \"Hello World!\".split()\n",
        "print(split_world)"
      ]
    },
    {
      "cell_type": "code",
      "source": [
        "# assigning a string to a variable\n",
        "# then printing the result of calling the 'split()' method on it\n",
        "world_msg = \"Hello World!\"\n",
        "print(world_msg.split())"
      ],
      "metadata": {
        "colab": {
          "base_uri": "https://localhost:8080/"
        },
        "id": "FGhMBksPNLvF",
        "outputId": "8b9e4042-09a7-479f-d158-06cc849c7c94"
      },
      "execution_count": 2,
      "outputs": [
        {
          "output_type": "stream",
          "name": "stdout",
          "text": [
            "['Hello', 'World!']\n"
          ]
        }
      ]
    },
    {
      "cell_type": "code",
      "source": [
        "# the following will produce an error because\n",
        "# the 'split()' method must be called on a string in order to work!\n",
        "split{\"Hello World!\"}"
      ],
      "metadata": {
        "colab": {
          "base_uri": "https://localhost:8080/",
          "height": 130
        },
        "id": "cvukbCxUNfla",
        "outputId": "d423d2e8-a749-41bf-8e85-6852775a3f6a"
      },
      "execution_count": 3,
      "outputs": [
        {
          "output_type": "error",
          "ename": "SyntaxError",
          "evalue": "ignored",
          "traceback": [
            "\u001b[0;36m  File \u001b[0;32m\"<ipython-input-3-b6ea81c3d791>\"\u001b[0;36m, line \u001b[0;32m3\u001b[0m\n\u001b[0;31m    split{\"Hello World!\"}\u001b[0m\n\u001b[0m         ^\u001b[0m\n\u001b[0;31mSyntaxError\u001b[0m\u001b[0;31m:\u001b[0m invalid syntax\n"
          ]
        }
      ]
    },
    {
      "cell_type": "code",
      "source": [
        "# the following will produce an error because\n",
        "# there is no 'split()' method for numbers!\n",
        "print(5.split())"
      ],
      "metadata": {
        "colab": {
          "base_uri": "https://localhost:8080/",
          "height": 130
        },
        "id": "wnFYsOQSOAbN",
        "outputId": "22ca25eb-d12a-41a3-ff7c-fc2b292c6d01"
      },
      "execution_count": 4,
      "outputs": [
        {
          "output_type": "error",
          "ename": "SyntaxError",
          "evalue": "ignored",
          "traceback": [
            "\u001b[0;36m  File \u001b[0;32m\"<ipython-input-4-709e821cd852>\"\u001b[0;36m, line \u001b[0;32m3\u001b[0m\n\u001b[0;31m    print(5.split())\u001b[0m\n\u001b[0m            ^\u001b[0m\n\u001b[0;31mSyntaxError\u001b[0m\u001b[0;31m:\u001b[0m invalid syntax\n"
          ]
        }
      ]
    },
    {
      "cell_type": "code",
      "source": [
        "# Example 2.6. basic_greeting.py\n",
        "# create a variable named author\n",
        "author = \"Susan E. McGregor\""
      ],
      "metadata": {
        "id": "cJqJ8AOXPCTZ"
      },
      "execution_count": 6,
      "outputs": []
    },
    {
      "cell_type": "code",
      "source": [
        "# create another variable named editor\n",
        "editor = \"Jeff Bleiel\""
      ],
      "metadata": {
        "id": "UFxD0xTUPJGU"
      },
      "execution_count": 7,
      "outputs": []
    },
    {
      "cell_type": "code",
      "source": [
        "# use the built-in print function to output \"Hello\" messages to each person\n",
        "print(\"Hello \"+author)\n",
        "print(\"Hello \"+editor)"
      ],
      "metadata": {
        "colab": {
          "base_uri": "https://localhost:8080/"
        },
        "id": "r9IS0cwnPPZm",
        "outputId": "356527a0-b07c-4568-aa28-472fa5c9665c"
      },
      "execution_count": 8,
      "outputs": [
        {
          "output_type": "stream",
          "name": "stdout",
          "text": [
            "Hello Susan E. McGregor\n",
            "Hello Jeff Bleiel\n"
          ]
        }
      ]
    },
    {
      "cell_type": "code",
      "source": [
        "# Example 2-7. greet_me.py\n",
        "\n",
        "#create a function that prints our a greeting\n",
        "# to any name passed to the function\n",
        "def greet_me(a_name):\n",
        "    print(\"Hello \"+a_name)\n"
      ],
      "metadata": {
        "id": "ffM1mcd5PmtF"
      },
      "execution_count": 10,
      "outputs": []
    },
    {
      "cell_type": "code",
      "source": [
        "# create a variable named author\n",
        "author = \"Suan E. McGregor\""
      ],
      "metadata": {
        "id": "kMgDjNwoQC2J"
      },
      "execution_count": 11,
      "outputs": []
    },
    {
      "cell_type": "code",
      "source": [
        "# create another variable named editor\n",
        "editor = \"Jeff Bleil\""
      ],
      "metadata": {
        "id": "qu1PgJukQHR8"
      },
      "execution_count": 12,
      "outputs": []
    },
    {
      "cell_type": "code",
      "source": [
        "# use my custom function, 'greet me' to output \"Hello\" messages to each person\n",
        "greet_me(author)\n",
        "greet_me(editor)"
      ],
      "metadata": {
        "colab": {
          "base_uri": "https://localhost:8080/"
        },
        "id": "0RvBzFJBQMu7",
        "outputId": "e4d3de61-593a-43e7-ad4a-af9b4e22468a"
      },
      "execution_count": 13,
      "outputs": [
        {
          "output_type": "stream",
          "name": "stdout",
          "text": [
            "Hello Suan E. McGregor\n",
            "Hello Jeff Bleil\n"
          ]
        }
      ]
    },
    {
      "cell_type": "code",
      "source": [],
      "metadata": {
        "id": "Aj26UEbOaC1F"
      },
      "execution_count": null,
      "outputs": []
    },
    {
      "cell_type": "code",
      "source": [
        "# experimenting with error messages - 1\n",
        "# without any parameters in the round parentheses (i.e., missing required\n",
        "# positional argument)\n",
        "greet_me()"
      ],
      "metadata": {
        "colab": {
          "base_uri": "https://localhost:8080/",
          "height": 181
        },
        "id": "LDmnF24eaC6j",
        "outputId": "8d0218cf-313f-4ba1-f603-b28105cb8346"
      },
      "execution_count": 14,
      "outputs": [
        {
          "output_type": "error",
          "ename": "TypeError",
          "evalue": "ignored",
          "traceback": [
            "\u001b[0;31m---------------------------------------------------------------------------\u001b[0m",
            "\u001b[0;31mTypeError\u001b[0m                                 Traceback (most recent call last)",
            "\u001b[0;32m<ipython-input-14-64a035f879f8>\u001b[0m in \u001b[0;36m<cell line: 2>\u001b[0;34m()\u001b[0m\n\u001b[1;32m      1\u001b[0m \u001b[0;31m# experimenting with error messages - 1\u001b[0m\u001b[0;34m\u001b[0m\u001b[0;34m\u001b[0m\u001b[0m\n\u001b[0;32m----> 2\u001b[0;31m \u001b[0mgreet_me\u001b[0m\u001b[0;34m(\u001b[0m\u001b[0;34m)\u001b[0m\u001b[0;34m\u001b[0m\u001b[0;34m\u001b[0m\u001b[0m\n\u001b[0m",
            "\u001b[0;31mTypeError\u001b[0m: greet_me() missing 1 required positional argument: 'a_name'"
          ]
        }
      ]
    },
    {
      "cell_type": "code",
      "source": [
        "# experimenting with error messages - 2\n",
        "# with too many parameters in the round parentheses\n",
        "greet_me(author,editor)\n"
      ],
      "metadata": {
        "colab": {
          "base_uri": "https://localhost:8080/",
          "height": 198
        },
        "id": "-75060fKaJys",
        "outputId": "c3b5b795-79f7-48c0-8a00-c8779b8da3d0"
      },
      "execution_count": 15,
      "outputs": [
        {
          "output_type": "error",
          "ename": "TypeError",
          "evalue": "ignored",
          "traceback": [
            "\u001b[0;31m---------------------------------------------------------------------------\u001b[0m",
            "\u001b[0;31mTypeError\u001b[0m                                 Traceback (most recent call last)",
            "\u001b[0;32m<ipython-input-15-e3bd92511ac3>\u001b[0m in \u001b[0;36m<cell line: 3>\u001b[0;34m()\u001b[0m\n\u001b[1;32m      1\u001b[0m \u001b[0;31m# experimenting with error messages - 2\u001b[0m\u001b[0;34m\u001b[0m\u001b[0;34m\u001b[0m\u001b[0m\n\u001b[1;32m      2\u001b[0m \u001b[0;31m# with too many parameters in the round parentheses\u001b[0m\u001b[0;34m\u001b[0m\u001b[0;34m\u001b[0m\u001b[0m\n\u001b[0;32m----> 3\u001b[0;31m \u001b[0mgreet_me\u001b[0m\u001b[0;34m(\u001b[0m\u001b[0mauthor\u001b[0m\u001b[0;34m,\u001b[0m\u001b[0meditor\u001b[0m\u001b[0;34m)\u001b[0m\u001b[0;34m\u001b[0m\u001b[0;34m\u001b[0m\u001b[0m\n\u001b[0m",
            "\u001b[0;31mTypeError\u001b[0m: greet_me() takes 1 positional argument but 2 were given"
          ]
        }
      ]
    },
    {
      "cell_type": "code",
      "source": [
        "# experimenting with error messages - 3\n",
        "# with something that isn't a variable that has already been defined\n",
        "greet_me(Samantha)\n"
      ],
      "metadata": {
        "colab": {
          "base_uri": "https://localhost:8080/",
          "height": 215
        },
        "id": "IMA6Aoxfaov0",
        "outputId": "c01e16bc-2194-4354-abbe-f1107c4dda9a"
      },
      "execution_count": 20,
      "outputs": [
        {
          "output_type": "error",
          "ename": "NameError",
          "evalue": "ignored",
          "traceback": [
            "\u001b[0;31m---------------------------------------------------------------------------\u001b[0m",
            "\u001b[0;31mNameError\u001b[0m                                 Traceback (most recent call last)",
            "\u001b[0;32m<ipython-input-20-0610b9ce2031>\u001b[0m in \u001b[0;36m<cell line: 3>\u001b[0;34m()\u001b[0m\n\u001b[1;32m      1\u001b[0m \u001b[0;31m# experimenting with error messages - 3\u001b[0m\u001b[0;34m\u001b[0m\u001b[0;34m\u001b[0m\u001b[0m\n\u001b[1;32m      2\u001b[0m \u001b[0;31m# with something that isn't a variable\u001b[0m\u001b[0;34m\u001b[0m\u001b[0;34m\u001b[0m\u001b[0m\n\u001b[0;32m----> 3\u001b[0;31m \u001b[0mgreet_me\u001b[0m\u001b[0;34m(\u001b[0m\u001b[0mSamantha\u001b[0m\u001b[0;34m)\u001b[0m\u001b[0;34m\u001b[0m\u001b[0;34m\u001b[0m\u001b[0m\n\u001b[0m\u001b[1;32m      4\u001b[0m \u001b[0;31m# this actually works\u001b[0m\u001b[0;34m\u001b[0m\u001b[0;34m\u001b[0m\u001b[0m\n",
            "\u001b[0;31mNameError\u001b[0m: name 'Samantha' is not defined"
          ]
        }
      ]
    },
    {
      "cell_type": "code",
      "source": [
        "# experimenting with error messages - 4\n",
        "# with something that isn't a string\n",
        "greet_me(14)"
      ],
      "metadata": {
        "colab": {
          "base_uri": "https://localhost:8080/",
          "height": 266
        },
        "id": "3JteSW51a5gN",
        "outputId": "f41bb60f-909a-4773-d6ec-ed800618484e"
      },
      "execution_count": 18,
      "outputs": [
        {
          "output_type": "error",
          "ename": "TypeError",
          "evalue": "ignored",
          "traceback": [
            "\u001b[0;31m---------------------------------------------------------------------------\u001b[0m",
            "\u001b[0;31mTypeError\u001b[0m                                 Traceback (most recent call last)",
            "\u001b[0;32m<ipython-input-18-9520591b10a7>\u001b[0m in \u001b[0;36m<cell line: 2>\u001b[0;34m()\u001b[0m\n\u001b[1;32m      1\u001b[0m \u001b[0;31m# with something that isn't a string\u001b[0m\u001b[0;34m\u001b[0m\u001b[0;34m\u001b[0m\u001b[0m\n\u001b[0;32m----> 2\u001b[0;31m \u001b[0mgreet_me\u001b[0m\u001b[0;34m(\u001b[0m\u001b[0;36m14\u001b[0m\u001b[0;34m)\u001b[0m\u001b[0;34m\u001b[0m\u001b[0;34m\u001b[0m\u001b[0m\n\u001b[0m",
            "\u001b[0;32m<ipython-input-10-49c150872540>\u001b[0m in \u001b[0;36mgreet_me\u001b[0;34m(a_name)\u001b[0m\n\u001b[1;32m      4\u001b[0m \u001b[0;31m# to any name passed to the function\u001b[0m\u001b[0;34m\u001b[0m\u001b[0;34m\u001b[0m\u001b[0m\n\u001b[1;32m      5\u001b[0m \u001b[0;32mdef\u001b[0m \u001b[0mgreet_me\u001b[0m\u001b[0;34m(\u001b[0m\u001b[0ma_name\u001b[0m\u001b[0;34m)\u001b[0m\u001b[0;34m:\u001b[0m\u001b[0;34m\u001b[0m\u001b[0;34m\u001b[0m\u001b[0m\n\u001b[0;32m----> 6\u001b[0;31m     \u001b[0mprint\u001b[0m\u001b[0;34m(\u001b[0m\u001b[0;34m\"Hello \"\u001b[0m\u001b[0;34m+\u001b[0m\u001b[0ma_name\u001b[0m\u001b[0;34m)\u001b[0m\u001b[0;34m\u001b[0m\u001b[0;34m\u001b[0m\u001b[0m\n\u001b[0m",
            "\u001b[0;31mTypeError\u001b[0m: can only concatenate str (not \"int\") to str"
          ]
        }
      ]
    },
    {
      "cell_type": "code",
      "source": [
        "# experimenting with error messages - 5\n",
        "# this actually works - putting a string inside round parentheses\n",
        "greet_me(\"Samantha\")"
      ],
      "metadata": {
        "colab": {
          "base_uri": "https://localhost:8080/"
        },
        "id": "T_0ZOtqUbZS1",
        "outputId": "2ecf8cde-3212-4173-9e7c-ad507cdb4074"
      },
      "execution_count": 21,
      "outputs": [
        {
          "output_type": "stream",
          "name": "stdout",
          "text": [
            "Hello Samantha\n"
          ]
        }
      ]
    }
  ]
}