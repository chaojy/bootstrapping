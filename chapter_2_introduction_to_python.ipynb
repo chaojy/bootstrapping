{
  "nbformat": 4,
  "nbformat_minor": 0,
  "metadata": {
    "colab": {
      "provenance": [],
      "authorship_tag": "ABX9TyPZuqLuYeXKLtQIKC9iwdy6",
      "include_colab_link": true
    },
    "kernelspec": {
      "name": "python3",
      "display_name": "Python 3"
    },
    "language_info": {
      "name": "python"
    }
  },
  "cells": [
    {
      "cell_type": "markdown",
      "metadata": {
        "id": "view-in-github",
        "colab_type": "text"
      },
      "source": [
        "<a href=\"https://colab.research.google.com/github/chaojy/bootstrapping/blob/main/chapter_2_introduction_to_python.ipynb\" target=\"_parent\"><img src=\"https://colab.research.google.com/assets/colab-badge.svg\" alt=\"Open In Colab\"/></a>"
      ]
    },
    {
      "cell_type": "code",
      "execution_count": 1,
      "metadata": {
        "colab": {
          "base_uri": "https://localhost:8080/"
        },
        "id": "72UIUhvsG4DO",
        "outputId": "1cfa7515-cde0-4c52-f457-9cb1371fa907"
      },
      "outputs": [
        {
          "output_type": "execute_result",
          "data": {
            "text/plain": [
              "25"
            ]
          },
          "metadata": {},
          "execution_count": 1
        }
      ],
      "source": [
        "# Example 2-1. parts_of_speech.py\n",
        "# a number is just digits\n",
        "25\n"
      ]
    },
    {
      "cell_type": "code",
      "source": [
        "# a string is anything surrounded by matching quotation marks\n",
        "\"Hello World\""
      ],
      "metadata": {
        "colab": {
          "base_uri": "https://localhost:8080/",
          "height": 37
        },
        "id": "pHaI3tvoHJrB",
        "outputId": "a9ca13be-1dc5-4d1b-e212-d699642d8cd7"
      },
      "execution_count": 2,
      "outputs": [
        {
          "output_type": "execute_result",
          "data": {
            "text/plain": [
              "'Hello World'"
            ],
            "application/vnd.google.colaboratory.intrinsic+json": {
              "type": "string"
            }
          },
          "metadata": {},
          "execution_count": 2
        }
      ]
    },
    {
      "cell_type": "code",
      "source": [
        "# a list is surrounded by square brackets, with commas between items\n",
        "# note that in Python, the first item in a list id considered to be\n",
        "# in position '0', the net in position '1', and so on...\n",
        "[\"this\",\"is\",1,\"list\"]"
      ],
      "metadata": {
        "colab": {
          "base_uri": "https://localhost:8080/"
        },
        "id": "bzwMtizWHPQy",
        "outputId": "4ee9a296-2f47-44ee-b2ad-c7692257ffbd"
      },
      "execution_count": 3,
      "outputs": [
        {
          "output_type": "execute_result",
          "data": {
            "text/plain": [
              "['this', 'is', 1, 'list']"
            ]
          },
          "metadata": {},
          "execution_count": 3
        }
      ]
    },
    {
      "cell_type": "code",
      "source": [
        "# a dict is a set of key:value pairs, separated by commas and surrounded\n",
        "# by curly braces\n",
        "{\"title\":\"Practical Python for Data Wrangling and Data Quality\", \n",
        " \"format\": \"book\",\n",
        " \"author\": \"Susan E. McGregor\"\n",
        " }"
      ],
      "metadata": {
        "colab": {
          "base_uri": "https://localhost:8080/"
        },
        "id": "wZLttSiSHm9t",
        "outputId": "233dc595-3e69-4cbd-ac2c-17ea86858b0d"
      },
      "execution_count": 4,
      "outputs": [
        {
          "output_type": "execute_result",
          "data": {
            "text/plain": [
              "{'title': 'Practical Python for Data Wrangling and Data Quality',\n",
              " 'format': 'book',\n",
              " 'author': 'Susan E. McGregor'}"
            ]
          },
          "metadata": {},
          "execution_count": 4
        }
      ]
    },
    {
      "cell_type": "code",
      "source": [
        "# a boolean is a data type that has only two values, true and false.\n",
        "True"
      ],
      "metadata": {
        "colab": {
          "base_uri": "https://localhost:8080/"
        },
        "id": "-v6G7IHcIE7K",
        "outputId": "12b919e6-f077-4424-d365-8e70f4ebe4d1"
      },
      "execution_count": 5,
      "outputs": [
        {
          "output_type": "execute_result",
          "data": {
            "text/plain": [
              "True"
            ]
          },
          "metadata": {},
          "execution_count": 5
        }
      ]
    },
    {
      "cell_type": "code",
      "source": [
        "# Example 2.2. Naming a Python variable\n",
        "author = \"Susan E. McGregor\""
      ],
      "metadata": {
        "id": "w05wIQ_1I_BH"
      },
      "execution_count": 6,
      "outputs": []
    },
    {
      "cell_type": "code",
      "source": [
        "# Example 2.3. Printing the content of a Python variable\n",
        "# create a variable named author, set its contents to \"Susan E. McGregor\"\n",
        "author = \"Susan E. McGregor\"\n",
        "# confirm that the computer \"remembers\" what's in the 'author' variable\n",
        "print(author)"
      ],
      "metadata": {
        "colab": {
          "base_uri": "https://localhost:8080/"
        },
        "id": "XKt3mkOvJNG-",
        "outputId": "7e3cb734-e8ff-4172-e7fd-15678c012867"
      },
      "execution_count": 7,
      "outputs": [
        {
          "output_type": "stream",
          "name": "stdout",
          "text": [
            "Susan E. McGregor\n"
          ]
        }
      ]
    },
    {
      "cell_type": "code",
      "source": [
        "# Example 2.4. noun_examples.py\n",
        "# create a variable names nyc_resident, sets its contents to \"Susan E. McGregor\"\n",
        "nyc_resident = \"Susan E. McGregor\""
      ],
      "metadata": {
        "id": "AxfH8XGPJxxl"
      },
      "execution_count": 8,
      "outputs": []
    },
    {
      "cell_type": "code",
      "source": [
        "# confirm that the computer \"remembers\" what's in the 'nyc_resident' variable\n",
        "print(nyc_resident)"
      ],
      "metadata": {
        "colab": {
          "base_uri": "https://localhost:8080/"
        },
        "id": "w5Wxgwq9J_tQ",
        "outputId": "f973d824-a4c6-4045-bb2d-edfdd7eeda08"
      },
      "execution_count": 9,
      "outputs": [
        {
          "output_type": "stream",
          "name": "stdout",
          "text": [
            "Susan E. McGregor\n"
          ]
        }
      ]
    },
    {
      "cell_type": "code",
      "source": [
        "# create a variable named fuzzPinkBunny, set its contents to \"Susan E. McGregor\"\n",
        "fuzzyPinkBunny = \"Susan E. McGregor\""
      ],
      "metadata": {
        "id": "EEXOUYdwKKDf"
      },
      "execution_count": 10,
      "outputs": []
    },
    {
      "cell_type": "code",
      "source": [
        "# confirm that the computer \"remembers\" what's in the 'fuzzPinkBunny' variable\n",
        "print(fuzzyPinkBunny)"
      ],
      "metadata": {
        "colab": {
          "base_uri": "https://localhost:8080/"
        },
        "id": "_xQBdERpKeMz",
        "outputId": "c8800f0c-28a2-4ffb-fcf4-fc54ec1bfafb"
      },
      "execution_count": 11,
      "outputs": [
        {
          "output_type": "stream",
          "name": "stdout",
          "text": [
            "Susan E. McGregor\n"
          ]
        }
      ]
    },
    {
      "cell_type": "code",
      "source": [
        "# but correct capitalization matters!\n",
        "# the following line will produce an error\n",
        "print(fuzzpinkbunny)"
      ],
      "metadata": {
        "colab": {
          "base_uri": "https://localhost:8080/",
          "height": 198
        },
        "id": "_d93eynUKtYJ",
        "outputId": "f639c93c-3938-4b47-e413-62cc15a5e542"
      },
      "execution_count": 12,
      "outputs": [
        {
          "output_type": "error",
          "ename": "NameError",
          "evalue": "ignored",
          "traceback": [
            "\u001b[0;31m---------------------------------------------------------------------------\u001b[0m",
            "\u001b[0;31mNameError\u001b[0m                                 Traceback (most recent call last)",
            "\u001b[0;32m<ipython-input-12-f154498a4280>\u001b[0m in \u001b[0;36m<cell line: 3>\u001b[0;34m()\u001b[0m\n\u001b[1;32m      1\u001b[0m \u001b[0;31m# but correct capitalization matters!\u001b[0m\u001b[0;34m\u001b[0m\u001b[0;34m\u001b[0m\u001b[0m\n\u001b[1;32m      2\u001b[0m \u001b[0;31m# the following line will produce an error\u001b[0m\u001b[0;34m\u001b[0m\u001b[0;34m\u001b[0m\u001b[0m\n\u001b[0;32m----> 3\u001b[0;31m \u001b[0mprint\u001b[0m\u001b[0;34m(\u001b[0m\u001b[0mfuzzpinkbunny\u001b[0m\u001b[0;34m)\u001b[0m\u001b[0;34m\u001b[0m\u001b[0;34m\u001b[0m\u001b[0m\n\u001b[0m",
            "\u001b[0;31mNameError\u001b[0m: name 'fuzzpinkbunny' is not defined"
          ]
        }
      ]
    }
  ]
}